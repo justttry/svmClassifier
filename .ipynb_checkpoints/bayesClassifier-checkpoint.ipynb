{
 "cells": [
  {
   "cell_type": "code",
   "execution_count": 1,
   "metadata": {
    "collapsed": true
   },
   "outputs": [],
   "source": [
    "from bayesClassifier import *"
   ]
  },
  {
   "cell_type": "code",
   "execution_count": 2,
   "metadata": {
    "collapsed": false
   },
   "outputs": [
    {
     "name": "stderr",
     "output_type": "stream",
     "text": [
      "Building prefix dict from the default dictionary ...\n",
      "Loading model from cache c:\\users\\zhaoke\\appdata\\local\\temp\\jieba.cache\n",
      "Loading model cost 0.332 seconds.\n",
      "Prefix dict has been built succesfully.\n"
     ]
    },
    {
     "data": {
      "image/png": "[encoded data removed]",
      "text/plain": [
       "<matplotlib.figure.Figure at 0xa547c18>"
      ]
     },
     "metadata": {},
     "output_type": "display_data"
    }
   ],
   "source": [
    "#加载数据\n",
    "dataset = load_files('./test_file2')\n",
    "#对数据进行分词处理\n",
    "datasets = []\n",
    "for i in dataset.data:\n",
    "    datasets.append(' '.join([j for j in jieba.cut(i)]))        #训练数据\n",
    "cv = ShuffleSplit(n_splits=3, test_size=0.3, random_state=0)\n",
    "ks = [1, 2, 3, 5, 10, 20, 30, 50, 100, 200, 300, 500, 1000, 2000, \n",
    "      3000, 5000, 10000, 20000, 'all']\n",
    "accuracys = []\n",
    "for k in ks:\n",
    "    classifier = bayesClassifier(MultinomialNB, k=k)\n",
    "    clf = make_pipeline(classifier)\n",
    "    accuracys.append(\\\n",
    "        average(cross_val_score(clf, datasets, dataset.target, cv=cv)))\n",
    "fig, ax = plt.subplots()\n",
    "ax.scatter(range(len(ks)), accuracys)\n",
    "ks[-1] = 25000\n",
    "ax.set_xticks(log(ks))\n",
    "ax.set_yscale('log')\n",
    "ax.set_xlabel('k')\n",
    "ax.set_ylabel('accuracy')\n",
    "plt.show()"
   ]
  },
  {
   "cell_type": "code",
   "execution_count": null,
   "metadata": {
    "collapsed": true
   },
   "outputs": [],
   "source": []
  }
 ],
 "metadata": {
  "kernelspec": {
   "display_name": "Python 2",
   "language": "python",
   "name": "python2"
  },
  "language_info": {
   "codemirror_mode": {
    "name": "ipython",
    "version": 2
   },
   "file_extension": ".py",
   "mimetype": "text/x-python",
   "name": "python",
   "nbconvert_exporter": "python",
   "pygments_lexer": "ipython2",
   "version": "2.7.13"
  }
 },
 "nbformat": 4,
 "nbformat_minor": 2
}
